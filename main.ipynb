{
 "cells": [
  {
   "cell_type": "markdown",
   "id": "e4542e69-b79f-4832-89e9-082773636ea0",
   "metadata": {},
   "source": [
    "# IMPORTANTE\n",
    "\n",
    "Acertar problema com o somatorio e mutação, principalmente a mutação pois não está fazendo o que é necessário. Refazer para ir mostrando um único individuo e verificar onde está o erro e refazer a copia dos individuos"
   ]
  },
  {
   "cell_type": "markdown",
   "id": "c6cf1914-9403-42ad-9986-a40731589a2f",
   "metadata": {},
   "source": [
    "# Metodologia"
   ]
  },
  {
   "cell_type": "markdown",
   "id": "2d39e0c1-af23-40a1-b603-b12395cd0b41",
   "metadata": {},
   "source": [
    "Os dados serão processados de maneira a representar cada linha como uma coleção abrangente das preferências dos professores ao escolher um horário. Essas preferências serão quantificadas em uma escala de 0 (não permitido) a 5 (sem objeção), refletindo o grau de aceitação de cada professor em ministrar aula no horário atribuído. \n",
    "\n",
    "Segue um exemplo:\n",
    "\n",
    "| Nome     | Dia 1 - Turno 1 | Dia 1 - Turno 2 | Dia 2 - Turno 2 | Dia 2 - Turno 2 |\n",
    "|----------|-----------------|-----------------|-----------------|-----------------|\n",
    "| Ciclano  |       0         |       1         |       2         |       3         |\n",
    "| Beltrano |       4         |       0         |       1         |       2         |"
   ]
  },
  {
   "cell_type": "code",
   "execution_count": 1,
   "id": "813520ab-f008-41a2-bfce-2eb435065eb0",
   "metadata": {},
   "outputs": [
    {
     "name": "stdout",
     "output_type": "stream",
     "text": [
      "Arquivos criados\n"
     ]
    }
   ],
   "source": [
    "# Se for necessário construir dados aleatórios para teste, \n",
    "# altere essa célula para código e execute\n",
    "!python3 create_inputs.py"
   ]
  },
  {
   "cell_type": "markdown",
   "id": "622fc841-1cdf-4b3e-8c8f-ba1d1ba6e562",
   "metadata": {},
   "source": [
    "## Importar Bibliotecas"
   ]
  },
  {
   "cell_type": "code",
   "execution_count": 2,
   "id": "b75da5a2-2742-47c5-8464-6868a2de650f",
   "metadata": {},
   "outputs": [],
   "source": [
    "from config import Config as config\n",
    "from geneticalgorithm import GeneticAlgorithm as ag"
   ]
  },
  {
   "cell_type": "markdown",
   "id": "11f7377b-2eb7-41ae-91c9-556a4f44f479",
   "metadata": {},
   "source": [
    "## Processamento de dados"
   ]
  },
  {
   "cell_type": "markdown",
   "id": "c950e9af-1b72-48d1-85d3-700246555c3f",
   "metadata": {},
   "source": [
    "O trecho de código irá processar os valores de entrada, construindo uma lista que contém todas as informações relevantes de cada professor. Nessa lista, o primeiro elemento corresponderá ao nome do professor, enquanto os elementos subsequentes serão tratados como valores inteiros."
   ]
  },
  {
   "cell_type": "code",
   "execution_count": 3,
   "id": "a50bdd36-584e-4d27-bff9-3a01071fbc9c",
   "metadata": {},
   "outputs": [],
   "source": [
    "inputs = config.read_file()"
   ]
  },
  {
   "cell_type": "markdown",
   "id": "7cd287c0-5ab9-4a47-8f6e-0b4b336a0180",
   "metadata": {},
   "source": [
    "### Tratamento de dados"
   ]
  },
  {
   "cell_type": "code",
   "execution_count": 4,
   "id": "d4e1d4c2-2cd0-4913-98d8-73f2039b17ac",
   "metadata": {},
   "outputs": [
    {
     "name": "stdout",
     "output_type": "stream",
     "text": [
      "(1, [('0_ucdmb', 0), ('1_ugyki', 3), ('2_edkiw', 0), ('3_srewi', 2), ('4_aprtx', 4), ('5_acqjl', 2), ('6_sqkzk', 5), ('7_jdrsi', 1), ('8_pmtoo', 1), ('9_wkbli', 2)])\n",
      "(2, [('0_ucdmb', 2), ('1_ugyki', 0), ('2_edkiw', 4), ('3_srewi', 0), ('4_aprtx', 3), ('5_acqjl', 0), ('6_sqkzk', 5), ('7_jdrsi', 5), ('8_pmtoo', 0), ('9_wkbli', 3)])\n",
      "(3, [('0_ucdmb', 4), ('1_ugyki', 1), ('2_edkiw', 1), ('3_srewi', 2), ('4_aprtx', 2), ('5_acqjl', 4), ('6_sqkzk', 1), ('7_jdrsi', 5), ('8_pmtoo', 0), ('9_wkbli', 3)])\n",
      "(4, [('0_ucdmb', 0), ('1_ugyki', 1), ('2_edkiw', 3), ('3_srewi', 2), ('4_aprtx', 2), ('5_acqjl', 3), ('6_sqkzk', 4), ('7_jdrsi', 5), ('8_pmtoo', 5), ('9_wkbli', 1)])\n",
      "(5, [('0_ucdmb', 1), ('1_ugyki', 4), ('2_edkiw', 1), ('3_srewi', 4), ('4_aprtx', 5), ('5_acqjl', 3), ('6_sqkzk', 1), ('7_jdrsi', 5), ('8_pmtoo', 4), ('9_wkbli', 4)])\n",
      "(6, [('0_ucdmb', 2), ('1_ugyki', 2), ('2_edkiw', 0), ('3_srewi', 4), ('4_aprtx', 4), ('5_acqjl', 3), ('6_sqkzk', 3), ('7_jdrsi', 1), ('8_pmtoo', 4), ('9_wkbli', 1)])\n",
      "(7, [('0_ucdmb', 3), ('1_ugyki', 2), ('2_edkiw', 5), ('3_srewi', 0), ('4_aprtx', 0), ('5_acqjl', 4), ('6_sqkzk', 1), ('7_jdrsi', 3), ('8_pmtoo', 2), ('9_wkbli', 4)])\n"
     ]
    }
   ],
   "source": [
    "dict_inputs = config.treatment(inputs)\n",
    "config.show(dict_inputs.items())"
   ]
  },
  {
   "cell_type": "markdown",
   "id": "1c7bc804-cf9f-424c-b813-3ae78f95b3ee",
   "metadata": {},
   "source": [
    "# Algoritmo Genético\n",
    "\n",
    "Para a execução do algoritmo genético deve ser:\n",
    "\n",
    "- Inicialização da População\n",
    "- Avaliação da aptidão:\n",
    "  A função ```ag.fit()``` organiza mantém os indivíduos com maiores valores excluindo o $n$ últimos valores  \n",
    "- Seleção\n",
    "- Recombinação (*Crossover*)\n",
    "- Mutação\n",
    "- Avaliação da Aptidão (*Fitness*)\n",
    "- Substituição da População\n",
    "- Critério de Parada"
   ]
  },
  {
   "cell_type": "code",
   "execution_count": 11,
   "id": "da37d1dc-6eba-4b92-9cd6-6c570008746c",
   "metadata": {},
   "outputs": [
    {
     "name": "stdout",
     "output_type": "stream",
     "text": [
      "[('1_ugyki', 3), ('6_sqkzk', 5), ('0_ucdmb', 4), ('5_acqjl', 3), ('8_pmtoo', 4), ('5_acqjl', 3), ('7_jdrsi', 3), ('soma', 25)]\n",
      "[('1_ugyki', 3), ('6_sqkzk', 5), ('0_ucdmb', 4), ('5_acqjl', 3), ('5_acqjl', 3), ('6_sqkzk', 3), ('0_ucdmb', 3), ('soma', 24)]\n",
      "[('1_ugyki', 3), ('1_ugyki', 2), ('0_ucdmb', 4), ('5_acqjl', 3), ('8_pmtoo', 4), ('4_aprtx', 4), ('6_sqkzk', 4), ('soma', 24)]\n",
      "[('1_ugyki', 3), ('6_sqkzk', 5), ('2_edkiw', 1), ('5_acqjl', 3), ('8_pmtoo', 4), ('4_aprtx', 4), ('0_ucdmb', 3), ('soma', 23)]\n",
      "[('1_ugyki', 3), ('6_sqkzk', 5), ('0_ucdmb', 4), ('5_acqjl', 3), ('8_pmtoo', 4), ('5_acqjl', 3), ('6_sqkzk', 1), ('soma', 23)]\n",
      "[('1_ugyki', 3), ('1_ugyki', 1), ('0_ucdmb', 4), ('5_acqjl', 3), ('8_pmtoo', 4), ('4_aprtx', 4), ('0_ucdmb', 3), ('soma', 22)]\n",
      "[('1_ugyki', 3), ('6_sqkzk', 5), ('2_edkiw', 1), ('5_acqjl', 3), ('8_pmtoo', 4), ('5_acqjl', 3), ('7_jdrsi', 3), ('soma', 22)]\n",
      "[('0_ucdmb', 0), ('6_sqkzk', 5), ('0_ucdmb', 4), ('5_acqjl', 3), ('8_pmtoo', 4), ('5_acqjl', 3), ('7_jdrsi', 3), ('soma', 22)]\n",
      "[('0_ucdmb', 0), ('6_sqkzk', 5), ('0_ucdmb', 4), ('5_acqjl', 3), ('8_pmtoo', 4), ('5_acqjl', 3), ('7_jdrsi', 3), ('soma', 22)]\n",
      "[('1_ugyki', 3), ('6_sqkzk', 5), ('2_edkiw', 1), ('5_acqjl', 3), ('8_pmtoo', 4), ('5_acqjl', 3), ('7_jdrsi', 3), ('soma', 22)]\n",
      "[('0_ucdmb', 0), ('6_sqkzk', 5), ('0_ucdmb', 4), ('5_acqjl', 3), ('5_acqjl', 3), ('6_sqkzk', 3), ('0_ucdmb', 3), ('soma', 21)]\n",
      "[('0_ucdmb', 0), ('6_sqkzk', 5), ('0_ucdmb', 4), ('5_acqjl', 3), ('5_acqjl', 3), ('5_acqjl', 3), ('0_ucdmb', 3), ('soma', 21)]\n",
      "[('1_ugyki', 3), ('9_wkbli', 3), ('4_aprtx', 2), ('5_acqjl', 3), ('8_pmtoo', 4), ('5_acqjl', 3), ('7_jdrsi', 3), ('soma', 21)]\n",
      "[('0_ucdmb', 0), ('6_sqkzk', 5), ('0_ucdmb', 4), ('5_acqjl', 3), ('5_acqjl', 3), ('6_sqkzk', 3), ('0_ucdmb', 3), ('soma', 21)]\n",
      "[('0_ucdmb', 0), ('6_sqkzk', 5), ('0_ucdmb', 4), ('5_acqjl', 3), ('5_acqjl', 3), ('6_sqkzk', 3), ('0_ucdmb', 3), ('soma', 21)]\n",
      "[('1_ugyki', 3), ('9_wkbli', 3), ('4_aprtx', 2), ('5_acqjl', 3), ('8_pmtoo', 4), ('5_acqjl', 3), ('7_jdrsi', 3), ('soma', 21)]\n",
      "[('0_ucdmb', 0), ('6_sqkzk', 5), ('0_ucdmb', 4), ('5_acqjl', 3), ('5_acqjl', 3), ('6_sqkzk', 3), ('0_ucdmb', 3), ('soma', 21)]\n",
      "[('1_ugyki', 3), ('1_ugyki', 2), ('0_ucdmb', 4), ('5_acqjl', 3), ('5_acqjl', 3), ('5_acqjl', 3), ('7_jdrsi', 3), ('soma', 21)]\n",
      "[('1_ugyki', 3), ('1_ugyki', 2), ('0_ucdmb', 4), ('5_acqjl', 3), ('5_acqjl', 3), ('6_sqkzk', 3), ('6_sqkzk', 1), ('soma', 19)]\n",
      "[('0_ucdmb', 0), ('1_ugyki', 2), ('0_ucdmb', 4), ('5_acqjl', 3), ('8_pmtoo', 4), ('5_acqjl', 3), ('7_jdrsi', 3), ('soma', 19)]\n"
     ]
    }
   ],
   "source": [
    "individuos = ag.gerar_populacao(10, dict_inputs) # inicialização da população\n",
    "for i in range(5): # de forma simples, tomando arbitrariamente que em 20 gerações converge para otimização\n",
    "    individuos = config.somatorio(individuos)\n",
    "    individuos = ag.fit(individuos)\n",
    "\n",
    "    individuos = ag.crossover(individuos)\n",
    "    for _ in range(int(0.3*len(individuos))): # 30% da população sofre mutação\n",
    "        individuos = ag.mutacao(individuos, dict_inputs)\n",
    "\n",
    "config.show(individuos)"
   ]
  }
 ],
 "metadata": {
  "kernelspec": {
   "display_name": "Python 3 (ipykernel)",
   "language": "python",
   "name": "python3"
  },
  "language_info": {
   "codemirror_mode": {
    "name": "ipython",
    "version": 3
   },
   "file_extension": ".py",
   "mimetype": "text/x-python",
   "name": "python",
   "nbconvert_exporter": "python",
   "pygments_lexer": "ipython3",
   "version": "3.10.12"
  }
 },
 "nbformat": 4,
 "nbformat_minor": 5
}
